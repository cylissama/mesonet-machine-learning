{
 "cells": [
  {
   "cell_type": "code",
   "id": "initial_id",
   "metadata": {
    "collapsed": true,
    "ExecuteTime": {
     "end_time": "2025-03-02T21:11:37.612736Z",
     "start_time": "2025-03-02T21:11:37.607962Z"
    }
   },
   "source": [
    "import pandas as pd\n",
    "import numpy as np"
   ],
   "outputs": [],
   "execution_count": 8
  },
  {
   "metadata": {
    "ExecuteTime": {
     "end_time": "2025-03-02T21:12:18.119178Z",
     "start_time": "2025-03-02T21:11:59.671656Z"
    }
   },
   "cell_type": "code",
   "source": [
    "file_data ='/Volumes/Mesonet/spring_ml/output_data/prism_tmean_us_30s_20210101_CONV.csv'\n",
    "\n",
    "station_data = pd.read_csv(file_data)\n",
    "\n",
    "# add data for pymica\n",
    "station_data['key'] = range(1, len(station_data) + 1)  # Replace with actual values if needed\n",
    "# the following are populated with rand values for testing\n",
    "station_data['dist'] = np.random.uniform(1, 100, len(station_data))\n",
    "station_data['hr'] = np.random.randint(0, 24, len(station_data))\n",
    "station_data['altitude'] = np.random.uniform(50, 500, len(station_data))\n",
    "\n",
    "\n",
    "# re index this dataframe for better readability\n",
    "desired_order = ['key','altitude', 'dist', 'hr', 'latitude', 'longitude', 'tmean'] + [col for col in station_data.columns if col not in ['key', 'altitude', 'dist', 'hr', 'latitude', 'longitude', 'tmean']]\n",
    "station_data = station_data.reindex(columns=desired_order)\n",
    "\n",
    "station_data.head()"
   ],
   "id": "6009637bbafba493",
   "outputs": [
    {
     "data": {
      "text/plain": [
       "   key    altitude       dist  hr  latitude  longitude     tmean   timestamp\n",
       "0    1  204.696394  63.458572  21    49.425 -95.141667 -8.059400  2021-01-01\n",
       "1    2  284.980509  11.522433   2    49.425 -95.133333 -8.010099  2021-01-01\n",
       "2    3  102.697629  93.553599  20    49.425 -95.125000 -8.007299  2021-01-01\n",
       "3    4  180.142507  97.575115   7    49.425 -95.116667 -8.008200  2021-01-01\n",
       "4    5   86.521250  18.982861   6    49.425 -95.108333 -8.009200  2021-01-01"
      ],
      "text/html": [
       "<div>\n",
       "<style scoped>\n",
       "    .dataframe tbody tr th:only-of-type {\n",
       "        vertical-align: middle;\n",
       "    }\n",
       "\n",
       "    .dataframe tbody tr th {\n",
       "        vertical-align: top;\n",
       "    }\n",
       "\n",
       "    .dataframe thead th {\n",
       "        text-align: right;\n",
       "    }\n",
       "</style>\n",
       "<table border=\"1\" class=\"dataframe\">\n",
       "  <thead>\n",
       "    <tr style=\"text-align: right;\">\n",
       "      <th></th>\n",
       "      <th>key</th>\n",
       "      <th>altitude</th>\n",
       "      <th>dist</th>\n",
       "      <th>hr</th>\n",
       "      <th>latitude</th>\n",
       "      <th>longitude</th>\n",
       "      <th>tmean</th>\n",
       "      <th>timestamp</th>\n",
       "    </tr>\n",
       "  </thead>\n",
       "  <tbody>\n",
       "    <tr>\n",
       "      <th>0</th>\n",
       "      <td>1</td>\n",
       "      <td>204.696394</td>\n",
       "      <td>63.458572</td>\n",
       "      <td>21</td>\n",
       "      <td>49.425</td>\n",
       "      <td>-95.141667</td>\n",
       "      <td>-8.059400</td>\n",
       "      <td>2021-01-01</td>\n",
       "    </tr>\n",
       "    <tr>\n",
       "      <th>1</th>\n",
       "      <td>2</td>\n",
       "      <td>284.980509</td>\n",
       "      <td>11.522433</td>\n",
       "      <td>2</td>\n",
       "      <td>49.425</td>\n",
       "      <td>-95.133333</td>\n",
       "      <td>-8.010099</td>\n",
       "      <td>2021-01-01</td>\n",
       "    </tr>\n",
       "    <tr>\n",
       "      <th>2</th>\n",
       "      <td>3</td>\n",
       "      <td>102.697629</td>\n",
       "      <td>93.553599</td>\n",
       "      <td>20</td>\n",
       "      <td>49.425</td>\n",
       "      <td>-95.125000</td>\n",
       "      <td>-8.007299</td>\n",
       "      <td>2021-01-01</td>\n",
       "    </tr>\n",
       "    <tr>\n",
       "      <th>3</th>\n",
       "      <td>4</td>\n",
       "      <td>180.142507</td>\n",
       "      <td>97.575115</td>\n",
       "      <td>7</td>\n",
       "      <td>49.425</td>\n",
       "      <td>-95.116667</td>\n",
       "      <td>-8.008200</td>\n",
       "      <td>2021-01-01</td>\n",
       "    </tr>\n",
       "    <tr>\n",
       "      <th>4</th>\n",
       "      <td>5</td>\n",
       "      <td>86.521250</td>\n",
       "      <td>18.982861</td>\n",
       "      <td>6</td>\n",
       "      <td>49.425</td>\n",
       "      <td>-95.108333</td>\n",
       "      <td>-8.009200</td>\n",
       "      <td>2021-01-01</td>\n",
       "    </tr>\n",
       "  </tbody>\n",
       "</table>\n",
       "</div>"
      ]
     },
     "execution_count": 9,
     "metadata": {},
     "output_type": "execute_result"
    }
   ],
   "execution_count": 9
  },
  {
   "metadata": {
    "ExecuteTime": {
     "end_time": "2025-03-02T21:17:50.912137Z",
     "start_time": "2025-03-02T21:17:50.866534Z"
    }
   },
   "cell_type": "code",
   "source": [
    "# data prep for pymica\n",
    "data = []\n",
    "for key in station_data['key'].head(10):\n",
    "    df_data = station_data[station_data['key'] == key]\n",
    "    #df_meta = metadata[metadata['key'] == key]\n",
    "    data.append(\n",
    "        {\n",
    "            'id': key,\n",
    "            'longitude': float(df_data['longitude'].iloc[0]),\n",
    "            'latitude': float(df_data['latitude'].iloc[0]),\n",
    "            'value': float(df_data['tmean'].iloc[0]), # value for 'tmean' is manually placed\n",
    "            'altitude': float(df_data['altitude'].iloc[0]),\n",
    "            'dist': float(df_data['dist'].iloc[0])\n",
    "        }\n",
    "    )\n",
    "\n",
    "print('Sample data: ', data[0])\n",
    "print('Number of points: ', len(data))"
   ],
   "id": "df2e62536d2d8775",
   "outputs": [
    {
     "name": "stdout",
     "output_type": "stream",
     "text": [
      "Sample data:  {'id': 1, 'longitude': -95.141666667862, 'latitude': 49.425000000020006, 'value': -8.0594, 'altitude': 204.69639361851333, 'dist': 63.45857206322449}\n",
      "Number of points:  10\n"
     ]
    }
   ],
   "execution_count": 15
  },
  {
   "metadata": {},
   "cell_type": "code",
   "outputs": [],
   "execution_count": null,
   "source": "",
   "id": "d9bc2fcb974c6906"
  }
 ],
 "metadata": {
  "kernelspec": {
   "display_name": "Python 3",
   "language": "python",
   "name": "python3"
  },
  "language_info": {
   "codemirror_mode": {
    "name": "ipython",
    "version": 2
   },
   "file_extension": ".py",
   "mimetype": "text/x-python",
   "name": "python",
   "nbconvert_exporter": "python",
   "pygments_lexer": "ipython2",
   "version": "2.7.6"
  }
 },
 "nbformat": 4,
 "nbformat_minor": 5
}
