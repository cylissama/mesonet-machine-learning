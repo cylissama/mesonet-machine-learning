{
 "cells": [
  {
   "cell_type": "code",
   "id": "initial_id",
   "metadata": {
    "collapsed": true,
    "ExecuteTime": {
     "end_time": "2025-06-02T00:58:47.664712Z",
     "start_time": "2025-06-02T00:58:46.047465Z"
    }
   },
   "source": [
    "import numpy as np\n",
    "import pandas as pd\n",
    "\n",
    "CRRL_file = '../CRRL.csv'\n",
    "\n",
    "CRRL_df = pd.read_csv(CRRL_file)\n",
    "\n",
    "print(CRRL_df.columns)"
   ],
   "outputs": [
    {
     "name": "stdout",
     "output_type": "stream",
     "text": [
      "Index(['NetSiteAbbrev', 'County', 'UTCTimestampCollected', 'TAIR', 'DWPT',\n",
      "       'PRCP', 'PRES', 'RELH', 'SRAD', 'WDIR', 'WSPD', 'WDSD', 'WSSD', 'SM02',\n",
      "       'SM04', 'ST02', 'ST04', 'VT05', 'VT20', 'VT90', 'VR05', 'VR20', 'VR90'],\n",
      "      dtype='object')\n"
     ]
    },
    {
     "name": "stderr",
     "output_type": "stream",
     "text": [
      "/var/folders/x3/czpqf5ks36d7yf5gcqbkp2140000gn/T/ipykernel_12435/1500114883.py:6: DtypeWarning: Columns (3,4,5,6,7,8,9,10,11,12,13,14,15,16,17,18,19,20,21,22) have mixed types. Specify dtype option on import or set low_memory=False.\n",
      "  CRRL_df = pd.read_csv(CRRL_file)\n"
     ]
    }
   ],
   "execution_count": 1
  },
  {
   "metadata": {},
   "cell_type": "code",
   "outputs": [],
   "execution_count": null,
   "source": "",
   "id": "504f3769778f3dbc"
  }
 ],
 "metadata": {
  "kernelspec": {
   "display_name": "Python 3",
   "language": "python",
   "name": "python3"
  },
  "language_info": {
   "codemirror_mode": {
    "name": "ipython",
    "version": 2
   },
   "file_extension": ".py",
   "mimetype": "text/x-python",
   "name": "python",
   "nbconvert_exporter": "python",
   "pygments_lexer": "ipython2",
   "version": "2.7.6"
  }
 },
 "nbformat": 4,
 "nbformat_minor": 5
}
